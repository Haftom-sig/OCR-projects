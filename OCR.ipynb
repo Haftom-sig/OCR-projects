{
 "cells": [
  {
   "cell_type": "markdown",
   "id": "97b8b6b2",
   "metadata": {},
   "source": [
    "# Amharic Scanned Books conversion "
   ]
  },
  {
   "cell_type": "code",
   "execution_count": 33,
   "id": "80b7ebbd",
   "metadata": {},
   "outputs": [],
   "source": [
    "import pytesseract\n",
    "from PIL import Image\n",
    "from pdf2image import convert_from_path, convert_from_bytes\n",
    "import os\n",
    "from pdf2image.exceptions import (\n",
    "    PDFInfoNotInstalledError,\n",
    "    PDFPageCountError,\n",
    "    PDFSyntaxError\n",
    ")"
   ]
  },
  {
   "cell_type": "code",
   "execution_count": 34,
   "id": "6ded45d4",
   "metadata": {},
   "outputs": [],
   "source": [
    "import io\n",
    "def amh_OCR(imgs):     \n",
    "    for i in range(len(images)):\n",
    "        text=pytesseract.image_to_string(images[i],lang=\"amh\")\n",
    "        with io.open(\"jail-11-cr.txt\", \"a\", encoding=\"utf-8\") as f:\n",
    "             f.write(text)     "
   ]
  },
  {
   "cell_type": "code",
   "execution_count": 35,
   "id": "10a4a81d",
   "metadata": {},
   "outputs": [],
   "source": [
    "#List all files in a directory using os.listdir\n",
    "#basepath = './Books/'\n",
    "basepath = './ambook/'\n",
    "f= open(\"jail-11-cr.txt\",\"a\")\n",
    "x=0\n",
    "for entry in os.listdir(basepath):\n",
    "    if os.path.isfile(os.path.join(basepath, entry)): \n",
    "        images = convert_from_path(basepath+entry)\n",
    "        amh_OCR(images)"
   ]
  },
  {
   "cell_type": "code",
   "execution_count": 4,
   "id": "8e97ee02",
   "metadata": {},
   "outputs": [],
   "source": [
    "f.close()"
   ]
  },
  {
   "cell_type": "code",
   "execution_count": 5,
   "id": "11068a54",
   "metadata": {},
   "outputs": [],
   "source": [
    "import glob\n",
    "import io\n",
    "filenames = glob.glob( './ocr-books/*.txt' )\n",
    "with open('Amharic_books_corpus-ocr.txt', 'w',encoding=\"utf8\") as outfile:\n",
    "    for fname in filenames:\n",
    "        with open(fname,encoding=\"utf8\") as infile:\n",
    "            for line in infile:\n",
    "                outfile.write(line)\n"
   ]
  },
  {
   "cell_type": "code",
   "execution_count": null,
   "id": "fb563bc4",
   "metadata": {},
   "outputs": [],
   "source": [
    "glob.glob( 'ocr-books/*.txt' )"
   ]
  },
  {
   "cell_type": "markdown",
   "id": "9f0b6ba9",
   "metadata": {},
   "source": [
    "# Facebook Post Images conversion"
   ]
  },
  {
   "cell_type": "code",
   "execution_count": null,
   "id": "18fe872a",
   "metadata": {},
   "outputs": [],
   "source": [
    "# Read images from \n",
    "from PIL import Image  \n",
    "import pytesseract\n",
    "img = Image.open('./fbimages/207565343_1291202471276802_4658646261146474674_n.jpg')"
   ]
  },
  {
   "cell_type": "code",
   "execution_count": null,
   "id": "5a79e83f",
   "metadata": {},
   "outputs": [],
   "source": [
    "img"
   ]
  },
  {
   "cell_type": "code",
   "execution_count": null,
   "id": "b798a674",
   "metadata": {},
   "outputs": [],
   "source": [
    "print(pytesseract.image_to_string(img,lang=\"amh+eng\"))"
   ]
  },
  {
   "cell_type": "markdown",
   "id": "8696913e",
   "metadata": {},
   "source": [
    "# Image reading "
   ]
  },
  {
   "cell_type": "code",
   "execution_count": null,
   "id": "62ed32b2",
   "metadata": {},
   "outputs": [],
   "source": [
    "import cv2\n",
    "import numpy as np\n",
    "from PIL import Image  \n",
    "import pytesseract\n",
    "from matplotlib import pyplot as plt\n",
    "from skimage import io\n",
    "import numpy as np"
   ]
  },
  {
   "cell_type": "code",
   "execution_count": null,
   "id": "607b9f23",
   "metadata": {},
   "outputs": [],
   "source": [
    "filename='./fbimages/1200px-Geez_script_sample.svg.png'\n",
    "image = cv2.imread(filename)\n",
    "Image.open(filename)"
   ]
  },
  {
   "cell_type": "code",
   "execution_count": null,
   "id": "884d529b",
   "metadata": {},
   "outputs": [],
   "source": [
    "#custom_config = r'--oem 3 --psm 6'\n",
    "#print(pytesseract.image_to_string(image, config=custom_config))\n",
    "print(pytesseract.image_to_string(image,lang=\"amh\"))"
   ]
  },
  {
   "cell_type": "markdown",
   "id": "ea355593",
   "metadata": {},
   "source": [
    "# Image Preprocessing"
   ]
  },
  {
   "cell_type": "code",
   "execution_count": null,
   "id": "0200b701",
   "metadata": {},
   "outputs": [],
   "source": [
    "# get grayscale image\n",
    "def get_grayscale(image):\n",
    "    return cv2.cvtColor(image, cv2.COLOR_BGR2GRAY)\n",
    "\n",
    "# noise removal\n",
    "def remove_noise(image):\n",
    "    return cv2.medianBlur(image,5)\n",
    " \n",
    "#thresholding\n",
    "def thresholding(image):\n",
    "    return cv2.threshold(image, 0, 255, cv2.THRESH_BINARY + cv2.THRESH_OTSU)[1]\n",
    "\n",
    "#dilation\n",
    "def dilate(image):\n",
    "    kernel = np.ones((5,5),np.uint8)\n",
    "    return cv2.dilate(image, kernel, iterations = 1)\n",
    "    \n",
    "#erosion\n",
    "def erode(image):\n",
    "    kernel = np.ones((5,5),np.uint8)\n",
    "    return cv2.erode(image, kernel, iterations = 1)\n",
    "\n",
    "#opening - erosion followed by dilation\n",
    "def opening(image):\n",
    "    kernel = np.ones((5,5),np.uint8)\n",
    "    return cv2.morphologyEx(image, cv2.MORPH_OPEN, kernel)\n",
    "\n",
    "#canny edge detection\n",
    "def canny(image):\n",
    "    return cv2.Canny(image, 100, 200)\n",
    "\n",
    "#skew correction\n",
    "def deskew(image):\n",
    "    coords = np.column_stack(np.where(image > 0))\n",
    "    angle = cv2.minAreaRect(coords)[-1]\n",
    "    if angle < -45:\n",
    "        angle = -(90 + angle)\n",
    "    else:\n",
    "        angle = -angle\n",
    "    (h, w) = image.shape[:2]\n",
    "    center = (w // 2, h // 2)\n",
    "    M = cv2.getRotationMatrix2D(center, angle, 1.0)\n",
    "    rotated = cv2.warpAffine(image, M, (w, h), flags=cv2.INTER_CUBIC, borderMode=cv2.BORDER_REPLICATE)\n",
    "    return rotated\n",
    "\n",
    "#template matching\n",
    "def match_template(image, template):\n",
    "    return cv2.matchTemplate(image, template, cv2.TM_CCOEFF_NORMED) "
   ]
  },
  {
   "cell_type": "code",
   "execution_count": null,
   "id": "e8731c76",
   "metadata": {},
   "outputs": [],
   "source": [
    "gray = get_grayscale(image)\n",
    "thresh = thresholding(gray)\n",
    "opening = opening(gray)\n",
    "canny = canny(gray)"
   ]
  },
  {
   "cell_type": "code",
   "execution_count": null,
   "id": "f013a16b",
   "metadata": {},
   "outputs": [],
   "source": [
    "#gray = get_grayscale(image)\n",
    "io.imshow(gray)\n",
    "#custom_config = r'--oem 3 --psm 6'\n",
    "#print(pytesseract.image_to_string(canny, config=custom_config))\n",
    "print(pytesseract.image_to_string(gray,lang=\"amh+eng\"))"
   ]
  },
  {
   "cell_type": "code",
   "execution_count": null,
   "id": "393f32a3",
   "metadata": {},
   "outputs": [],
   "source": [
    "#thresh = thresholding(gray)\n",
    "io.imshow(thresh)\n",
    "#custom_config = r'--oem 3 --psm 6'\n",
    "#print(pytesseract.image_to_string(thresh, config=custom_config))\n",
    "print(pytesseract.image_to_string(thresh,lang=\"amh+eng\"))"
   ]
  },
  {
   "cell_type": "code",
   "execution_count": null,
   "id": "9515a47f",
   "metadata": {},
   "outputs": [],
   "source": [
    "#opening = opening(gray)\n",
    "io.imshow(opening)\n",
    "#custom_config = r'--oem 3 --psm 6'\n",
    "#print(pytesseract.image_to_string(opening, config=custom_config))\n",
    "print(pytesseract.image_to_string(opening,lang=\"amh+eng\"))"
   ]
  },
  {
   "cell_type": "code",
   "execution_count": null,
   "id": "cacca749",
   "metadata": {},
   "outputs": [],
   "source": [
    "#canny = canny(gray)\n",
    "io.imshow(canny)\n",
    "#custom_config = r'--oem 3 --psm 6'\n",
    "#print(pytesseract.image_to_string(canny, config=custom_config))\n",
    "print(pytesseract.image_to_string(canny,lang=\"amh+eng\"))"
   ]
  },
  {
   "cell_type": "code",
   "execution_count": null,
   "id": "cba578cd",
   "metadata": {},
   "outputs": [],
   "source": []
  },
  {
   "cell_type": "code",
   "execution_count": null,
   "id": "0b217e18",
   "metadata": {},
   "outputs": [],
   "source": []
  }
 ],
 "metadata": {
  "kernelspec": {
   "display_name": "Python 3 (ipykernel)",
   "language": "python",
   "name": "python3"
  },
  "language_info": {
   "codemirror_mode": {
    "name": "ipython",
    "version": 3
   },
   "file_extension": ".py",
   "mimetype": "text/x-python",
   "name": "python",
   "nbconvert_exporter": "python",
   "pygments_lexer": "ipython3",
   "version": "3.8.5"
  }
 },
 "nbformat": 4,
 "nbformat_minor": 5
}
